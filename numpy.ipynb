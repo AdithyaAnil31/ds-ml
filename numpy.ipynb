{
  "metadata": {
    "kernelspec": {
      "name": "python",
      "display_name": "Python (Pyodide)",
      "language": "python"
    },
    "language_info": {
      "codemirror_mode": {
        "name": "python",
        "version": 3
      },
      "file_extension": ".py",
      "mimetype": "text/x-python",
      "name": "python",
      "nbconvert_exporter": "python",
      "pygments_lexer": "ipython3",
      "version": "3.8"
    }
  },
  "nbformat_minor": 4,
  "nbformat": 4,
  "cells": [
    {
      "cell_type": "markdown",
      "source": "## Numpy",
      "metadata": {}
    },
    {
      "cell_type": "code",
      "source": "import numpy as np\nimport pandas as pd",
      "metadata": {
        "trusted": true
      },
      "outputs": [],
      "execution_count": 1
    },
    {
      "cell_type": "code",
      "source": "a1=np.array([1,2,3])\na1",
      "metadata": {
        "trusted": true
      },
      "outputs": [
        {
          "execution_count": 2,
          "output_type": "execute_result",
          "data": {
            "text/plain": "array([1, 2, 3])"
          },
          "metadata": {}
        }
      ],
      "execution_count": 2
    },
    {
      "cell_type": "code",
      "source": "a2=np.array([[1.1,2.2,3.3],\n            [4.4,5.5,6.6]])\na2",
      "metadata": {
        "trusted": true
      },
      "outputs": [
        {
          "execution_count": 4,
          "output_type": "execute_result",
          "data": {
            "text/plain": "array([[1.1, 2.2, 3.3],\n       [4.4, 5.5, 6.6]])"
          },
          "metadata": {}
        }
      ],
      "execution_count": 4
    },
    {
      "cell_type": "code",
      "source": "a3=np.array([[[1,2,3],\n              [4,5,6],\n              [7,8,9]],\n             [[11,12,13],\n              [14,15,16],\n              [17,18,19]]])\na3",
      "metadata": {
        "trusted": true
      },
      "outputs": [
        {
          "execution_count": 5,
          "output_type": "execute_result",
          "data": {
            "text/plain": "array([[[ 1,  2,  3],\n        [ 4,  5,  6],\n        [ 7,  8,  9]],\n\n       [[11, 12, 13],\n        [14, 15, 16],\n        [17, 18, 19]]])"
          },
          "metadata": {}
        }
      ],
      "execution_count": 5
    },
    {
      "cell_type": "code",
      "source": "a1.ndim,a2.ndim,a3.ndim",
      "metadata": {
        "trusted": true
      },
      "outputs": [
        {
          "execution_count": 7,
          "output_type": "execute_result",
          "data": {
            "text/plain": "(1, 2, 3)"
          },
          "metadata": {}
        }
      ],
      "execution_count": 7
    },
    {
      "cell_type": "code",
      "source": "a1.dtype,a2.dtype,a3.dtype",
      "metadata": {
        "trusted": true
      },
      "outputs": [
        {
          "execution_count": 8,
          "output_type": "execute_result",
          "data": {
            "text/plain": "(dtype('int32'), dtype('float64'), dtype('int32'))"
          },
          "metadata": {}
        }
      ],
      "execution_count": 8
    },
    {
      "cell_type": "code",
      "source": "a1.size,a2.size,a3.size",
      "metadata": {
        "trusted": true
      },
      "outputs": [
        {
          "execution_count": 9,
          "output_type": "execute_result",
          "data": {
            "text/plain": "(3, 6, 18)"
          },
          "metadata": {}
        }
      ],
      "execution_count": 9
    },
    {
      "cell_type": "code",
      "source": "a1.shape,a2.shape,a3.shape",
      "metadata": {
        "trusted": true
      },
      "outputs": [
        {
          "execution_count": 11,
          "output_type": "execute_result",
          "data": {
            "text/plain": "((3,), (2, 3), (2, 3, 3))"
          },
          "metadata": {}
        }
      ],
      "execution_count": 11
    },
    {
      "cell_type": "code",
      "source": "type(a1),type(a2),type(a3)",
      "metadata": {
        "trusted": true
      },
      "outputs": [
        {
          "execution_count": 12,
          "output_type": "execute_result",
          "data": {
            "text/plain": "(numpy.ndarray, numpy.ndarray, numpy.ndarray)"
          },
          "metadata": {}
        }
      ],
      "execution_count": 12
    },
    {
      "cell_type": "code",
      "source": "a2df=pd.DataFrame(a2)\na2df",
      "metadata": {
        "trusted": true
      },
      "outputs": [
        {
          "execution_count": 14,
          "output_type": "execute_result",
          "data": {
            "text/plain": "     0    1    2\n0  1.1  2.2  3.3\n1  4.4  5.5  6.6",
            "text/html": "<div>\n<style scoped>\n    .dataframe tbody tr th:only-of-type {\n        vertical-align: middle;\n    }\n\n    .dataframe tbody tr th {\n        vertical-align: top;\n    }\n\n    .dataframe thead th {\n        text-align: right;\n    }\n</style>\n<table border=\"1\" class=\"dataframe\">\n  <thead>\n    <tr style=\"text-align: right;\">\n      <th></th>\n      <th>0</th>\n      <th>1</th>\n      <th>2</th>\n    </tr>\n  </thead>\n  <tbody>\n    <tr>\n      <th>0</th>\n      <td>1.1</td>\n      <td>2.2</td>\n      <td>3.3</td>\n    </tr>\n    <tr>\n      <th>1</th>\n      <td>4.4</td>\n      <td>5.5</td>\n      <td>6.6</td>\n    </tr>\n  </tbody>\n</table>\n</div>"
          },
          "metadata": {}
        }
      ],
      "execution_count": 14
    },
    {
      "cell_type": "markdown",
      "source": "### Creating arrays",
      "metadata": {}
    },
    {
      "cell_type": "code",
      "source": "ones=np.ones((3,3))\nones",
      "metadata": {
        "trusted": true
      },
      "outputs": [
        {
          "execution_count": 16,
          "output_type": "execute_result",
          "data": {
            "text/plain": "array([[1., 1., 1.],\n       [1., 1., 1.],\n       [1., 1., 1.]])"
          },
          "metadata": {}
        }
      ],
      "execution_count": 16
    },
    {
      "cell_type": "code",
      "source": "zeros=np.zeros((3,3))\nzeros",
      "metadata": {
        "trusted": true
      },
      "outputs": [
        {
          "execution_count": 17,
          "output_type": "execute_result",
          "data": {
            "text/plain": "array([[0., 0., 0.],\n       [0., 0., 0.],\n       [0., 0., 0.]])"
          },
          "metadata": {}
        }
      ],
      "execution_count": 17
    },
    {
      "cell_type": "code",
      "source": "sample1=np.arange(0,10,2)\nsample1",
      "metadata": {
        "trusted": true
      },
      "outputs": [
        {
          "execution_count": 18,
          "output_type": "execute_result",
          "data": {
            "text/plain": "array([0, 2, 4, 6, 8])"
          },
          "metadata": {}
        }
      ],
      "execution_count": 18
    },
    {
      "cell_type": "code",
      "source": "sample2=np.random.randint(0,10,(2,3))\nsample2",
      "metadata": {
        "trusted": true
      },
      "outputs": [
        {
          "execution_count": 25,
          "output_type": "execute_result",
          "data": {
            "text/plain": "array([[5, 0, 3],\n       [3, 7, 9]])"
          },
          "metadata": {}
        }
      ],
      "execution_count": 25
    },
    {
      "cell_type": "code",
      "source": "sample3=np.random.random((2,3))\nsample3",
      "metadata": {
        "trusted": true
      },
      "outputs": [
        {
          "execution_count": 27,
          "output_type": "execute_result",
          "data": {
            "text/plain": "array([[0.81216873, 0.47997717, 0.3927848 ],\n       [0.83607876, 0.33739616, 0.64817187]])"
          },
          "metadata": {}
        }
      ],
      "execution_count": 27
    },
    {
      "cell_type": "code",
      "source": "sample4=np.random.rand(3,4)\nsample4",
      "metadata": {
        "trusted": true
      },
      "outputs": [
        {
          "execution_count": 34,
          "output_type": "execute_result",
          "data": {
            "text/plain": "array([[0.56804456, 0.92559664, 0.07103606, 0.0871293 ],\n       [0.0202184 , 0.83261985, 0.77815675, 0.87001215],\n       [0.97861834, 0.79915856, 0.46147936, 0.78052918]])"
          },
          "metadata": {}
        }
      ],
      "execution_count": 34
    },
    {
      "cell_type": "code",
      "source": "np.random.seed(0)\nsample5=np.random.randint(0,10,(3,3))\nsample5",
      "metadata": {
        "trusted": true
      },
      "outputs": [
        {
          "execution_count": 40,
          "output_type": "execute_result",
          "data": {
            "text/plain": "array([[5, 0, 3],\n       [3, 7, 9],\n       [3, 5, 2]])"
          },
          "metadata": {}
        }
      ],
      "execution_count": 40
    },
    {
      "cell_type": "code",
      "source": "np.unique(sample5)",
      "metadata": {
        "trusted": true
      },
      "outputs": [
        {
          "execution_count": 41,
          "output_type": "execute_result",
          "data": {
            "text/plain": "array([0, 2, 3, 5, 7, 9])"
          },
          "metadata": {}
        }
      ],
      "execution_count": 41
    },
    {
      "cell_type": "code",
      "source": "a1,ones",
      "metadata": {
        "trusted": true
      },
      "outputs": [
        {
          "execution_count": 42,
          "output_type": "execute_result",
          "data": {
            "text/plain": "(array([1, 2, 3]),\n array([[1., 1., 1.],\n        [1., 1., 1.],\n        [1., 1., 1.]]))"
          },
          "metadata": {}
        }
      ],
      "execution_count": 42
    },
    {
      "cell_type": "code",
      "source": "a1*ones",
      "metadata": {
        "trusted": true
      },
      "outputs": [
        {
          "execution_count": 43,
          "output_type": "execute_result",
          "data": {
            "text/plain": "array([[1., 2., 3.],\n       [1., 2., 3.],\n       [1., 2., 3.]])"
          },
          "metadata": {}
        }
      ],
      "execution_count": 43
    },
    {
      "cell_type": "code",
      "source": "a1+ones",
      "metadata": {
        "trusted": true
      },
      "outputs": [
        {
          "execution_count": 44,
          "output_type": "execute_result",
          "data": {
            "text/plain": "array([[2., 3., 4.],\n       [2., 3., 4.],\n       [2., 3., 4.]])"
          },
          "metadata": {}
        }
      ],
      "execution_count": 44
    },
    {
      "cell_type": "code",
      "source": "np.add(a1,ones)",
      "metadata": {
        "trusted": true
      },
      "outputs": [
        {
          "execution_count": 47,
          "output_type": "execute_result",
          "data": {
            "text/plain": "array([[2., 3., 4.],\n       [2., 3., 4.],\n       [2., 3., 4.]])"
          },
          "metadata": {}
        }
      ],
      "execution_count": 47
    },
    {
      "cell_type": "code",
      "source": "np.square(a1)",
      "metadata": {
        "trusted": true
      },
      "outputs": [
        {
          "execution_count": 48,
          "output_type": "execute_result",
          "data": {
            "text/plain": "array([1, 4, 9])"
          },
          "metadata": {}
        }
      ],
      "execution_count": 48
    },
    {
      "cell_type": "code",
      "source": "a1**2",
      "metadata": {
        "trusted": true
      },
      "outputs": [
        {
          "execution_count": 49,
          "output_type": "execute_result",
          "data": {
            "text/plain": "array([1, 4, 9])"
          },
          "metadata": {}
        }
      ],
      "execution_count": 49
    },
    {
      "cell_type": "code",
      "source": "a1%2",
      "metadata": {
        "trusted": true
      },
      "outputs": [
        {
          "execution_count": 50,
          "output_type": "execute_result",
          "data": {
            "text/plain": "array([1, 0, 1], dtype=int32)"
          },
          "metadata": {}
        }
      ],
      "execution_count": 50
    },
    {
      "cell_type": "code",
      "source": "a1//2",
      "metadata": {
        "trusted": true
      },
      "outputs": [
        {
          "execution_count": 51,
          "output_type": "execute_result",
          "data": {
            "text/plain": "array([0, 1, 1], dtype=int32)"
          },
          "metadata": {}
        }
      ],
      "execution_count": 51
    },
    {
      "cell_type": "code",
      "source": "np.multiply(a1,ones)",
      "metadata": {
        "trusted": true
      },
      "outputs": [
        {
          "execution_count": 52,
          "output_type": "execute_result",
          "data": {
            "text/plain": "array([[1., 2., 3.],\n       [1., 2., 3.],\n       [1., 2., 3.]])"
          },
          "metadata": {}
        }
      ],
      "execution_count": 52
    },
    {
      "cell_type": "code",
      "source": "np.exp(a1)",
      "metadata": {
        "trusted": true
      },
      "outputs": [
        {
          "execution_count": 53,
          "output_type": "execute_result",
          "data": {
            "text/plain": "array([ 2.71828183,  7.3890561 , 20.08553692])"
          },
          "metadata": {}
        }
      ],
      "execution_count": 53
    },
    {
      "cell_type": "code",
      "source": "np.log(a1)",
      "metadata": {
        "trusted": true
      },
      "outputs": [
        {
          "execution_count": 54,
          "output_type": "execute_result",
          "data": {
            "text/plain": "array([0.        , 0.69314718, 1.09861229])"
          },
          "metadata": {}
        }
      ],
      "execution_count": 54
    },
    {
      "cell_type": "code",
      "source": "#If working with python datatypes use sum() else if working with numpy datatypes use numpy np.sum()",
      "metadata": {
        "trusted": true
      },
      "outputs": [],
      "execution_count": 67
    },
    {
      "cell_type": "code",
      "source": "sample6 = np.random.randint(0,10,size=1000000)\nsample6.sum()",
      "metadata": {
        "trusted": true
      },
      "outputs": [
        {
          "execution_count": 74,
          "output_type": "execute_result",
          "data": {
            "text/plain": "4496929"
          },
          "metadata": {}
        }
      ],
      "execution_count": 74
    },
    {
      "cell_type": "code",
      "source": "%timeit sum(sample6)\n%timeit np.sum(sample6)\n%timeit sample6.sum()",
      "metadata": {
        "trusted": true
      },
      "outputs": [
        {
          "name": "stdout",
          "text": "116 ms ± 1.04 ms per loop (mean ± std. dev. of 7 runs, 10 loops each)\n244 µs ± 2.75 µs per loop (mean ± std. dev. of 7 runs, 1,000 loops each)\n238 µs ± 1.88 µs per loop (mean ± std. dev. of 7 runs, 1,000 loops each)\n",
          "output_type": "stream"
        }
      ],
      "execution_count": 75
    },
    {
      "cell_type": "code",
      "source": "sample6.mean()",
      "metadata": {
        "trusted": true
      },
      "outputs": [
        {
          "execution_count": 76,
          "output_type": "execute_result",
          "data": {
            "text/plain": "4.496929"
          },
          "metadata": {}
        }
      ],
      "execution_count": 76
    },
    {
      "cell_type": "code",
      "source": "## Standard deviation = a measure of how spread out a group of numbers is from the mean\nsample6.std()",
      "metadata": {
        "trusted": true
      },
      "outputs": [
        {
          "execution_count": 85,
          "output_type": "execute_result",
          "data": {
            "text/plain": "2.8724175478086407"
          },
          "metadata": {}
        }
      ],
      "execution_count": 85
    },
    {
      "cell_type": "code",
      "source": "sample6.var()",
      "metadata": {
        "trusted": true
      },
      "outputs": [
        {
          "execution_count": 79,
          "output_type": "execute_result",
          "data": {
            "text/plain": "8.250782568959004"
          },
          "metadata": {}
        }
      ],
      "execution_count": 79
    },
    {
      "cell_type": "code",
      "source": "np.sqrt(np.var(sample6))",
      "metadata": {
        "trusted": true
      },
      "outputs": [
        {
          "execution_count": 83,
          "output_type": "execute_result",
          "data": {
            "text/plain": "2.8724175478086407"
          },
          "metadata": {}
        }
      ],
      "execution_count": 83
    },
    {
      "cell_type": "markdown",
      "source": "##### np.var(sample6) is same as sample6.var()\n##### Variance is the measure of the average degree to which each number is different to the mean\nHigher variance means higher range of numbers\nLower variance means lower range of numbers",
      "metadata": {}
    },
    {
      "cell_type": "code",
      "source": "high_var_array=np.array([1,100,200,400,4000,8000])\nlow_var_array=np.arange(0,12,2)",
      "metadata": {
        "trusted": true
      },
      "outputs": [],
      "execution_count": 86
    },
    {
      "cell_type": "code",
      "source": "high_var_array,low_var_array",
      "metadata": {
        "trusted": true
      },
      "outputs": [
        {
          "execution_count": 87,
          "output_type": "execute_result",
          "data": {
            "text/plain": "(array([   1,  100,  200,  400, 4000, 8000]), array([ 0,  2,  4,  6,  8, 10]))"
          },
          "metadata": {}
        }
      ],
      "execution_count": 87
    },
    {
      "cell_type": "code",
      "source": "high_var_array.std(),high_var_array.var(),high_var_array.mean()",
      "metadata": {
        "trusted": true
      },
      "outputs": [
        {
          "execution_count": 90,
          "output_type": "execute_result",
          "data": {
            "text/plain": "(2981.165902610737, 8887350.138888888, 2116.8333333333335)"
          },
          "metadata": {}
        }
      ],
      "execution_count": 90
    },
    {
      "cell_type": "code",
      "source": "low_var_array.std(),low_var_array.var(),low_var_array.mean()",
      "metadata": {
        "trusted": true
      },
      "outputs": [
        {
          "execution_count": 91,
          "output_type": "execute_result",
          "data": {
            "text/plain": "(3.415650255319866, 11.666666666666666, 5.0)"
          },
          "metadata": {}
        }
      ],
      "execution_count": 91
    },
    {
      "cell_type": "code",
      "source": "%matplotlib inline\nimport matplotlib.pyplot as plt",
      "metadata": {
        "trusted": true
      },
      "outputs": [],
      "execution_count": 92
    },
    {
      "cell_type": "code",
      "source": "plt.hist(high_var_array)",
      "metadata": {
        "trusted": true
      },
      "outputs": [
        {
          "execution_count": 103,
          "output_type": "execute_result",
          "data": {
            "text/plain": "(array([4., 0., 0., 0., 1., 0., 0., 0., 0., 1.]),\n array([1.0000e+00, 8.0090e+02, 1.6008e+03, 2.4007e+03, 3.2006e+03,\n        4.0005e+03, 4.8004e+03, 5.6003e+03, 6.4002e+03, 7.2001e+03,\n        8.0000e+03]),\n <BarContainer object of 10 artists>)"
          },
          "metadata": {}
        },
        {
          "output_type": "display_data",
          "data": {
            "text/plain": "<Figure size 640x480 with 1 Axes>",
            "image/png": "[encoded data removed]"
          },
          "metadata": {}
        }
      ],
      "execution_count": 103
    },
    {
      "cell_type": "code",
      "source": "plt.hist(low_var_array)",
      "metadata": {
        "trusted": true
      },
      "outputs": [
        {
          "execution_count": 104,
          "output_type": "execute_result",
          "data": {
            "text/plain": "(array([1., 0., 1., 0., 1., 0., 1., 0., 1., 1.]),\n array([ 0.,  1.,  2.,  3.,  4.,  5.,  6.,  7.,  8.,  9., 10.]),\n <BarContainer object of 10 artists>)"
          },
          "metadata": {}
        },
        {
          "output_type": "display_data",
          "data": {
            "text/plain": "<Figure size 640x480 with 1 Axes>",
            "image/png": "[encoded data removed]"
          },
          "metadata": {}
        }
      ],
      "execution_count": 104
    },
    {
      "cell_type": "code",
      "source": "a2,a2.shape",
      "metadata": {
        "trusted": true
      },
      "outputs": [
        {
          "execution_count": 107,
          "output_type": "execute_result",
          "data": {
            "text/plain": "(array([[1.1, 2.2, 3.3],\n        [4.4, 5.5, 6.6]]),\n (2, 3))"
          },
          "metadata": {}
        }
      ],
      "execution_count": 107
    },
    {
      "cell_type": "code",
      "source": "a3,  a3.shape",
      "metadata": {
        "trusted": true
      },
      "outputs": [
        {
          "execution_count": 110,
          "output_type": "execute_result",
          "data": {
            "text/plain": "(array([[[ 1,  2,  3],\n         [ 4,  5,  6],\n         [ 7,  8,  9]],\n \n        [[11, 12, 13],\n         [14, 15, 16],\n         [17, 18, 19]]]),\n (2, 3, 3))"
          },
          "metadata": {}
        }
      ],
      "execution_count": 110
    },
    {
      "cell_type": "code",
      "source": "a2*a3",
      "metadata": {
        "trusted": true
      },
      "outputs": [
        {
          "ename": "<class 'ValueError'>",
          "evalue": "operands could not be broadcast together with shapes (2,3) (2,3,3) ",
          "traceback": [
            "\u001b[0;31m---------------------------------------------------------------------------\u001b[0m",
            "\u001b[0;31mValueError\u001b[0m                                Traceback (most recent call last)",
            "Cell \u001b[0;32mIn[111], line 1\u001b[0m\n\u001b[0;32m----> 1\u001b[0m \u001b[43ma2\u001b[49m\u001b[38;5;241;43m*\u001b[39;49m\u001b[43ma3\u001b[49m\n",
            "\u001b[0;31mValueError\u001b[0m: operands could not be broadcast together with shapes (2,3) (2,3,3) "
          ],
          "output_type": "error"
        }
      ],
      "execution_count": 111
    },
    {
      "cell_type": "code",
      "source": "a2_reshape=a2.reshape(2,3,1)\na2_reshape",
      "metadata": {
        "trusted": true
      },
      "outputs": [
        {
          "execution_count": 115,
          "output_type": "execute_result",
          "data": {
            "text/plain": "array([[[1.1],\n        [2.2],\n        [3.3]],\n\n       [[4.4],\n        [5.5],\n        [6.6]]])"
          },
          "metadata": {}
        }
      ],
      "execution_count": 115
    },
    {
      "cell_type": "code",
      "source": "a2_reshape * a3",
      "metadata": {
        "trusted": true
      },
      "outputs": [
        {
          "execution_count": 116,
          "output_type": "execute_result",
          "data": {
            "text/plain": "array([[[  1.1,   2.2,   3.3],\n        [  8.8,  11. ,  13.2],\n        [ 23.1,  26.4,  29.7]],\n\n       [[ 48.4,  52.8,  57.2],\n        [ 77. ,  82.5,  88. ],\n        [112.2, 118.8, 125.4]]])"
          },
          "metadata": {}
        }
      ],
      "execution_count": 116
    },
    {
      "cell_type": "code",
      "source": "a2,a2.shape",
      "metadata": {
        "trusted": true
      },
      "outputs": [
        {
          "execution_count": 121,
          "output_type": "execute_result",
          "data": {
            "text/plain": "(array([[1.1, 2.2, 3.3],\n        [4.4, 5.5, 6.6]]),\n (2, 3))"
          },
          "metadata": {}
        }
      ],
      "execution_count": 121
    },
    {
      "cell_type": "markdown",
      "source": "### Transpose",
      "metadata": {}
    },
    {
      "cell_type": "code",
      "source": "a2t=a2.T\na2t,a2t.shape",
      "metadata": {
        "trusted": true
      },
      "outputs": [
        {
          "execution_count": 120,
          "output_type": "execute_result",
          "data": {
            "text/plain": "(array([[1.1, 4.4],\n        [2.2, 5.5],\n        [3.3, 6.6]]),\n (3, 2))"
          },
          "metadata": {}
        }
      ],
      "execution_count": 120
    },
    {
      "cell_type": "code",
      "source": "a2t.T",
      "metadata": {
        "trusted": true
      },
      "outputs": [
        {
          "execution_count": 124,
          "output_type": "execute_result",
          "data": {
            "text/plain": "array([[1.1, 2.2, 3.3],\n       [4.4, 5.5, 6.6]])"
          },
          "metadata": {}
        }
      ],
      "execution_count": 124
    },
    {
      "cell_type": "code",
      "source": "a2t",
      "metadata": {
        "trusted": true
      },
      "outputs": [
        {
          "execution_count": 126,
          "output_type": "execute_result",
          "data": {
            "text/plain": "array([[1.1, 4.4],\n       [2.2, 5.5],\n       [3.3, 6.6]])"
          },
          "metadata": {}
        }
      ],
      "execution_count": 126
    },
    {
      "cell_type": "markdown",
      "source": "### Dot product",
      "metadata": {}
    },
    {
      "cell_type": "code",
      "source": "s1=np.random.randint(10,size=(5,3))\ns2=np.random.randint(10,size=(5,3))\ns1,s2,s1.shape,s2.shape",
      "metadata": {
        "trusted": true
      },
      "outputs": [
        {
          "execution_count": 129,
          "output_type": "execute_result",
          "data": {
            "text/plain": "(array([[9, 5, 3],\n        [9, 5, 5],\n        [8, 9, 7],\n        [7, 0, 8],\n        [5, 4, 3]]),\n array([[1, 7, 1],\n        [3, 5, 4],\n        [0, 5, 1],\n        [6, 6, 9],\n        [9, 4, 1]]),\n (5, 3),\n (5, 3))"
          },
          "metadata": {}
        }
      ],
      "execution_count": 129
    },
    {
      "cell_type": "code",
      "source": "np.dot(s1,s2)",
      "metadata": {
        "trusted": true
      },
      "outputs": [
        {
          "ename": "<class 'ValueError'>",
          "evalue": "shapes (5,3) and (5,3) not aligned: 3 (dim 1) != 5 (dim 0)",
          "traceback": [
            "\u001b[0;31m---------------------------------------------------------------------------\u001b[0m",
            "\u001b[0;31mValueError\u001b[0m                                Traceback (most recent call last)",
            "Cell \u001b[0;32mIn[130], line 1\u001b[0m\n\u001b[0;32m----> 1\u001b[0m \u001b[43mnp\u001b[49m\u001b[38;5;241;43m.\u001b[39;49m\u001b[43mdot\u001b[49m\u001b[43m(\u001b[49m\u001b[43ms1\u001b[49m\u001b[43m,\u001b[49m\u001b[43ms2\u001b[49m\u001b[43m)\u001b[49m\n",
            "\u001b[0;31mValueError\u001b[0m: shapes (5,3) and (5,3) not aligned: 3 (dim 1) != 5 (dim 0)"
          ],
          "output_type": "error"
        }
      ],
      "execution_count": 130
    },
    {
      "cell_type": "code",
      "source": "s2t=s2.T\ns1.shape,s2t.shape",
      "metadata": {
        "trusted": true
      },
      "outputs": [
        {
          "execution_count": 132,
          "output_type": "execute_result",
          "data": {
            "text/plain": "((5, 3), (3, 5))"
          },
          "metadata": {}
        }
      ],
      "execution_count": 132
    },
    {
      "cell_type": "code",
      "source": "s1,s2t",
      "metadata": {
        "trusted": true
      },
      "outputs": [
        {
          "execution_count": 134,
          "output_type": "execute_result",
          "data": {
            "text/plain": "(array([[9, 5, 3],\n        [9, 5, 5],\n        [8, 9, 7],\n        [7, 0, 8],\n        [5, 4, 3]]),\n array([[1, 3, 0, 6, 9],\n        [7, 5, 5, 6, 4],\n        [1, 4, 1, 9, 1]]))"
          },
          "metadata": {}
        }
      ],
      "execution_count": 134
    },
    {
      "cell_type": "code",
      "source": "dots=np.dot(s1,s2t)\ndots,dots.shape",
      "metadata": {
        "trusted": true
      },
      "outputs": [
        {
          "execution_count": 135,
          "output_type": "execute_result",
          "data": {
            "text/plain": "(array([[ 47,  64,  28, 111, 104],\n        [ 49,  72,  30, 129, 106],\n        [ 78,  97,  52, 165, 115],\n        [ 15,  53,   8, 114,  71],\n        [ 36,  47,  23,  81,  64]]),\n (5, 5))"
          },
          "metadata": {}
        }
      ],
      "execution_count": 135
    },
    {
      "cell_type": "code",
      "source": "9+35+3",
      "metadata": {
        "trusted": true
      },
      "outputs": [
        {
          "execution_count": 136,
          "output_type": "execute_result",
          "data": {
            "text/plain": "47"
          },
          "metadata": {}
        }
      ],
      "execution_count": 136
    },
    {
      "cell_type": "code",
      "source": "27+25+12",
      "metadata": {
        "trusted": true
      },
      "outputs": [
        {
          "execution_count": 137,
          "output_type": "execute_result",
          "data": {
            "text/plain": "64"
          },
          "metadata": {}
        }
      ],
      "execution_count": 137
    },
    {
      "cell_type": "markdown",
      "source": "## Nut butter sales example",
      "metadata": {}
    },
    {
      "cell_type": "code",
      "source": "np.random.seed(0)\nweekly_sales=np.random.randint(20,size=(5,3))\nweekly_sales",
      "metadata": {
        "trusted": true
      },
      "outputs": [
        {
          "execution_count": 142,
          "output_type": "execute_result",
          "data": {
            "text/plain": "array([[12, 15,  0],\n       [ 3,  3,  7],\n       [ 9, 19, 18],\n       [ 4,  6, 12],\n       [ 1,  6,  7]])"
          },
          "metadata": {}
        }
      ],
      "execution_count": 142
    },
    {
      "cell_type": "code",
      "source": "weekly_sales_df=pd.DataFrame(weekly_sales,\n                             index=[\"Mon\",\"Tue\",\"Wed\",\"Thu\",\"Fri\"],\n                             columns=[\"Almond\",\"Peanut\",\"Cashew\"])\nweekly_sales_df",
      "metadata": {
        "trusted": true
      },
      "outputs": [
        {
          "execution_count": 143,
          "output_type": "execute_result",
          "data": {
            "text/plain": "     Almond  Peanut  Cashew\nMon      12      15       0\nTue       3       3       7\nWed       9      19      18\nThu       4       6      12\nFri       1       6       7",
            "text/html": "<div>\n<style scoped>\n    .dataframe tbody tr th:only-of-type {\n        vertical-align: middle;\n    }\n\n    .dataframe tbody tr th {\n        vertical-align: top;\n    }\n\n    .dataframe thead th {\n        text-align: right;\n    }\n</style>\n<table border=\"1\" class=\"dataframe\">\n  <thead>\n    <tr style=\"text-align: right;\">\n      <th></th>\n      <th>Almond</th>\n      <th>Peanut</th>\n      <th>Cashew</th>\n    </tr>\n  </thead>\n  <tbody>\n    <tr>\n      <th>Mon</th>\n      <td>12</td>\n      <td>15</td>\n      <td>0</td>\n    </tr>\n    <tr>\n      <th>Tue</th>\n      <td>3</td>\n      <td>3</td>\n      <td>7</td>\n    </tr>\n    <tr>\n      <th>Wed</th>\n      <td>9</td>\n      <td>19</td>\n      <td>18</td>\n    </tr>\n    <tr>\n      <th>Thu</th>\n      <td>4</td>\n      <td>6</td>\n      <td>12</td>\n    </tr>\n    <tr>\n      <th>Fri</th>\n      <td>1</td>\n      <td>6</td>\n      <td>7</td>\n    </tr>\n  </tbody>\n</table>\n</div>"
          },
          "metadata": {}
        }
      ],
      "execution_count": 143
    },
    {
      "cell_type": "code",
      "source": "sales_prices=np.array([10,8,12])\nsales_prices",
      "metadata": {
        "trusted": true
      },
      "outputs": [
        {
          "execution_count": 144,
          "output_type": "execute_result",
          "data": {
            "text/plain": "array([10,  8, 12])"
          },
          "metadata": {}
        }
      ],
      "execution_count": 144
    },
    {
      "cell_type": "code",
      "source": "sales_prices_df=pd.DataFrame(sales_prices,\n                             index=[\"Price\"],\n                             columns=[\"Almond\",\"Peanut\",\"Cashew\"])\nsales_prices_df",
      "metadata": {
        "trusted": true
      },
      "outputs": [
        {
          "ename": "<class 'ValueError'>",
          "evalue": "Shape of passed values is (3, 1), indices imply (1, 3)",
          "traceback": [
            "\u001b[0;31m---------------------------------------------------------------------------\u001b[0m",
            "\u001b[0;31mValueError\u001b[0m                                Traceback (most recent call last)",
            "Cell \u001b[0;32mIn[145], line 1\u001b[0m\n\u001b[0;32m----> 1\u001b[0m sales_prices_df\u001b[38;5;241m=\u001b[39m\u001b[43mpd\u001b[49m\u001b[38;5;241;43m.\u001b[39;49m\u001b[43mDataFrame\u001b[49m\u001b[43m(\u001b[49m\u001b[43msales_prices\u001b[49m\u001b[43m,\u001b[49m\n\u001b[1;32m      2\u001b[0m \u001b[43m                             \u001b[49m\u001b[43mindex\u001b[49m\u001b[38;5;241;43m=\u001b[39;49m\u001b[43m[\u001b[49m\u001b[38;5;124;43m\"\u001b[39;49m\u001b[38;5;124;43mPrice\u001b[39;49m\u001b[38;5;124;43m\"\u001b[39;49m\u001b[43m]\u001b[49m\u001b[43m,\u001b[49m\n\u001b[1;32m      3\u001b[0m \u001b[43m                             \u001b[49m\u001b[43mcolumns\u001b[49m\u001b[38;5;241;43m=\u001b[39;49m\u001b[43m[\u001b[49m\u001b[38;5;124;43m\"\u001b[39;49m\u001b[38;5;124;43mAlmond\u001b[39;49m\u001b[38;5;124;43m\"\u001b[39;49m\u001b[43m,\u001b[49m\u001b[38;5;124;43m\"\u001b[39;49m\u001b[38;5;124;43mPeanut\u001b[39;49m\u001b[38;5;124;43m\"\u001b[39;49m\u001b[43m,\u001b[49m\u001b[38;5;124;43m\"\u001b[39;49m\u001b[38;5;124;43mCashew\u001b[39;49m\u001b[38;5;124;43m\"\u001b[39;49m\u001b[43m]\u001b[49m\u001b[43m)\u001b[49m\n\u001b[1;32m      4\u001b[0m sales_prices_df\n",
            "File \u001b[0;32m/lib/python3.11/site-packages/pandas/core/frame.py:722\u001b[0m, in \u001b[0;36mDataFrame.__init__\u001b[0;34m(self, data, index, columns, dtype, copy)\u001b[0m\n\u001b[1;32m    712\u001b[0m         mgr \u001b[38;5;241m=\u001b[39m dict_to_mgr(\n\u001b[1;32m    713\u001b[0m             \u001b[38;5;66;03m# error: Item \"ndarray\" of \"Union[ndarray, Series, Index]\" has no\u001b[39;00m\n\u001b[1;32m    714\u001b[0m             \u001b[38;5;66;03m# attribute \"name\"\u001b[39;00m\n\u001b[0;32m   (...)\u001b[0m\n\u001b[1;32m    719\u001b[0m             typ\u001b[38;5;241m=\u001b[39mmanager,\n\u001b[1;32m    720\u001b[0m         )\n\u001b[1;32m    721\u001b[0m     \u001b[38;5;28;01melse\u001b[39;00m:\n\u001b[0;32m--> 722\u001b[0m         mgr \u001b[38;5;241m=\u001b[39m \u001b[43mndarray_to_mgr\u001b[49m\u001b[43m(\u001b[49m\n\u001b[1;32m    723\u001b[0m \u001b[43m            \u001b[49m\u001b[43mdata\u001b[49m\u001b[43m,\u001b[49m\n\u001b[1;32m    724\u001b[0m \u001b[43m            \u001b[49m\u001b[43mindex\u001b[49m\u001b[43m,\u001b[49m\n\u001b[1;32m    725\u001b[0m \u001b[43m            \u001b[49m\u001b[43mcolumns\u001b[49m\u001b[43m,\u001b[49m\n\u001b[1;32m    726\u001b[0m \u001b[43m            \u001b[49m\u001b[43mdtype\u001b[49m\u001b[38;5;241;43m=\u001b[39;49m\u001b[43mdtype\u001b[49m\u001b[43m,\u001b[49m\n\u001b[1;32m    727\u001b[0m \u001b[43m            \u001b[49m\u001b[43mcopy\u001b[49m\u001b[38;5;241;43m=\u001b[39;49m\u001b[43mcopy\u001b[49m\u001b[43m,\u001b[49m\n\u001b[1;32m    728\u001b[0m \u001b[43m            \u001b[49m\u001b[43mtyp\u001b[49m\u001b[38;5;241;43m=\u001b[39;49m\u001b[43mmanager\u001b[49m\u001b[43m,\u001b[49m\n\u001b[1;32m    729\u001b[0m \u001b[43m        \u001b[49m\u001b[43m)\u001b[49m\n\u001b[1;32m    731\u001b[0m \u001b[38;5;66;03m# For data is list-like, or Iterable (will consume into list)\u001b[39;00m\n\u001b[1;32m    732\u001b[0m \u001b[38;5;28;01melif\u001b[39;00m is_list_like(data):\n",
            "File \u001b[0;32m/lib/python3.11/site-packages/pandas/core/internals/construction.py:349\u001b[0m, in \u001b[0;36mndarray_to_mgr\u001b[0;34m(values, index, columns, dtype, copy, typ)\u001b[0m\n\u001b[1;32m    344\u001b[0m \u001b[38;5;66;03m# _prep_ndarraylike ensures that values.ndim == 2 at this point\u001b[39;00m\n\u001b[1;32m    345\u001b[0m index, columns \u001b[38;5;241m=\u001b[39m _get_axes(\n\u001b[1;32m    346\u001b[0m     values\u001b[38;5;241m.\u001b[39mshape[\u001b[38;5;241m0\u001b[39m], values\u001b[38;5;241m.\u001b[39mshape[\u001b[38;5;241m1\u001b[39m], index\u001b[38;5;241m=\u001b[39mindex, columns\u001b[38;5;241m=\u001b[39mcolumns\n\u001b[1;32m    347\u001b[0m )\n\u001b[0;32m--> 349\u001b[0m \u001b[43m_check_values_indices_shape_match\u001b[49m\u001b[43m(\u001b[49m\u001b[43mvalues\u001b[49m\u001b[43m,\u001b[49m\u001b[43m \u001b[49m\u001b[43mindex\u001b[49m\u001b[43m,\u001b[49m\u001b[43m \u001b[49m\u001b[43mcolumns\u001b[49m\u001b[43m)\u001b[49m\n\u001b[1;32m    351\u001b[0m \u001b[38;5;28;01mif\u001b[39;00m typ \u001b[38;5;241m==\u001b[39m \u001b[38;5;124m\"\u001b[39m\u001b[38;5;124marray\u001b[39m\u001b[38;5;124m\"\u001b[39m:\n\u001b[1;32m    353\u001b[0m     \u001b[38;5;28;01mif\u001b[39;00m \u001b[38;5;28missubclass\u001b[39m(values\u001b[38;5;241m.\u001b[39mdtype\u001b[38;5;241m.\u001b[39mtype, \u001b[38;5;28mstr\u001b[39m):\n",
            "File \u001b[0;32m/lib/python3.11/site-packages/pandas/core/internals/construction.py:420\u001b[0m, in \u001b[0;36m_check_values_indices_shape_match\u001b[0;34m(values, index, columns)\u001b[0m\n\u001b[1;32m    418\u001b[0m passed \u001b[38;5;241m=\u001b[39m values\u001b[38;5;241m.\u001b[39mshape\n\u001b[1;32m    419\u001b[0m implied \u001b[38;5;241m=\u001b[39m (\u001b[38;5;28mlen\u001b[39m(index), \u001b[38;5;28mlen\u001b[39m(columns))\n\u001b[0;32m--> 420\u001b[0m \u001b[38;5;28;01mraise\u001b[39;00m \u001b[38;5;167;01mValueError\u001b[39;00m(\u001b[38;5;124mf\u001b[39m\u001b[38;5;124m\"\u001b[39m\u001b[38;5;124mShape of passed values is \u001b[39m\u001b[38;5;132;01m{\u001b[39;00mpassed\u001b[38;5;132;01m}\u001b[39;00m\u001b[38;5;124m, indices imply \u001b[39m\u001b[38;5;132;01m{\u001b[39;00mimplied\u001b[38;5;132;01m}\u001b[39;00m\u001b[38;5;124m\"\u001b[39m)\n",
            "\u001b[0;31mValueError\u001b[0m: Shape of passed values is (3, 1), indices imply (1, 3)"
          ],
          "output_type": "error"
        }
      ],
      "execution_count": 145
    },
    {
      "cell_type": "code",
      "source": "sales_prices_df=pd.DataFrame(sales_prices.reshape(1,3),\n                             index=[\"Price\"],\n                             columns=[\"Almond\",\"Peanut\",\"Cashew\"])\nsales_prices_df",
      "metadata": {
        "trusted": true
      },
      "outputs": [
        {
          "execution_count": 147,
          "output_type": "execute_result",
          "data": {
            "text/plain": "       Almond  Peanut  Cashew\nPrice      10       8      12",
            "text/html": "<div>\n<style scoped>\n    .dataframe tbody tr th:only-of-type {\n        vertical-align: middle;\n    }\n\n    .dataframe tbody tr th {\n        vertical-align: top;\n    }\n\n    .dataframe thead th {\n        text-align: right;\n    }\n</style>\n<table border=\"1\" class=\"dataframe\">\n  <thead>\n    <tr style=\"text-align: right;\">\n      <th></th>\n      <th>Almond</th>\n      <th>Peanut</th>\n      <th>Cashew</th>\n    </tr>\n  </thead>\n  <tbody>\n    <tr>\n      <th>Price</th>\n      <td>10</td>\n      <td>8</td>\n      <td>12</td>\n    </tr>\n  </tbody>\n</table>\n</div>"
          },
          "metadata": {}
        }
      ],
      "execution_count": 147
    },
    {
      "cell_type": "code",
      "source": "weekly_sales_df",
      "metadata": {
        "trusted": true
      },
      "outputs": [
        {
          "execution_count": 151,
          "output_type": "execute_result",
          "data": {
            "text/plain": "     Almond  Peanut  Cashew\nMon      12      15       0\nTue       3       3       7\nWed       9      19      18\nThu       4       6      12\nFri       1       6       7",
            "text/html": "<div>\n<style scoped>\n    .dataframe tbody tr th:only-of-type {\n        vertical-align: middle;\n    }\n\n    .dataframe tbody tr th {\n        vertical-align: top;\n    }\n\n    .dataframe thead th {\n        text-align: right;\n    }\n</style>\n<table border=\"1\" class=\"dataframe\">\n  <thead>\n    <tr style=\"text-align: right;\">\n      <th></th>\n      <th>Almond</th>\n      <th>Peanut</th>\n      <th>Cashew</th>\n    </tr>\n  </thead>\n  <tbody>\n    <tr>\n      <th>Mon</th>\n      <td>12</td>\n      <td>15</td>\n      <td>0</td>\n    </tr>\n    <tr>\n      <th>Tue</th>\n      <td>3</td>\n      <td>3</td>\n      <td>7</td>\n    </tr>\n    <tr>\n      <th>Wed</th>\n      <td>9</td>\n      <td>19</td>\n      <td>18</td>\n    </tr>\n    <tr>\n      <th>Thu</th>\n      <td>4</td>\n      <td>6</td>\n      <td>12</td>\n    </tr>\n    <tr>\n      <th>Fri</th>\n      <td>1</td>\n      <td>6</td>\n      <td>7</td>\n    </tr>\n  </tbody>\n</table>\n</div>"
          },
          "metadata": {}
        }
      ],
      "execution_count": 151
    },
    {
      "cell_type": "code",
      "source": "weekly_sales,sales_prices,weekly_sales.shape,sales_prices.shape",
      "metadata": {
        "trusted": true
      },
      "outputs": [
        {
          "execution_count": 154,
          "output_type": "execute_result",
          "data": {
            "text/plain": "(array([[12, 15,  0],\n        [ 3,  3,  7],\n        [ 9, 19, 18],\n        [ 4,  6, 12],\n        [ 1,  6,  7]]),\n array([10,  8, 12]),\n (5, 3),\n (3,))"
          },
          "metadata": {}
        }
      ],
      "execution_count": 154
    },
    {
      "cell_type": "code",
      "source": "total_sales=weekly_sales.dot(sales_prices)\ntotal_sales",
      "metadata": {
        "trusted": true
      },
      "outputs": [
        {
          "execution_count": 156,
          "output_type": "execute_result",
          "data": {
            "text/plain": "array([240, 138, 458, 232, 142])"
          },
          "metadata": {}
        }
      ],
      "execution_count": 156
    },
    {
      "cell_type": "code",
      "source": "weekly_sales_df[\"Total\"]=total_sales\nweekly_sales_df",
      "metadata": {
        "trusted": true
      },
      "outputs": [
        {
          "execution_count": 160,
          "output_type": "execute_result",
          "data": {
            "text/plain": "     Almond  Peanut  Cashew  Total\nMon      12      15       0    240\nTue       3       3       7    138\nWed       9      19      18    458\nThu       4       6      12    232\nFri       1       6       7    142",
            "text/html": "<div>\n<style scoped>\n    .dataframe tbody tr th:only-of-type {\n        vertical-align: middle;\n    }\n\n    .dataframe tbody tr th {\n        vertical-align: top;\n    }\n\n    .dataframe thead th {\n        text-align: right;\n    }\n</style>\n<table border=\"1\" class=\"dataframe\">\n  <thead>\n    <tr style=\"text-align: right;\">\n      <th></th>\n      <th>Almond</th>\n      <th>Peanut</th>\n      <th>Cashew</th>\n      <th>Total</th>\n    </tr>\n  </thead>\n  <tbody>\n    <tr>\n      <th>Mon</th>\n      <td>12</td>\n      <td>15</td>\n      <td>0</td>\n      <td>240</td>\n    </tr>\n    <tr>\n      <th>Tue</th>\n      <td>3</td>\n      <td>3</td>\n      <td>7</td>\n      <td>138</td>\n    </tr>\n    <tr>\n      <th>Wed</th>\n      <td>9</td>\n      <td>19</td>\n      <td>18</td>\n      <td>458</td>\n    </tr>\n    <tr>\n      <th>Thu</th>\n      <td>4</td>\n      <td>6</td>\n      <td>12</td>\n      <td>232</td>\n    </tr>\n    <tr>\n      <th>Fri</th>\n      <td>1</td>\n      <td>6</td>\n      <td>7</td>\n      <td>142</td>\n    </tr>\n  </tbody>\n</table>\n</div>"
          },
          "metadata": {}
        }
      ],
      "execution_count": 160
    },
    {
      "cell_type": "code",
      "source": "a1",
      "metadata": {
        "trusted": true
      },
      "outputs": [
        {
          "execution_count": 163,
          "output_type": "execute_result",
          "data": {
            "text/plain": "array([1, 2, 3])"
          },
          "metadata": {}
        }
      ],
      "execution_count": 163
    },
    {
      "cell_type": "code",
      "source": "a1>1",
      "metadata": {
        "trusted": true
      },
      "outputs": [
        {
          "execution_count": 164,
          "output_type": "execute_result",
          "data": {
            "text/plain": "array([False,  True,  True])"
          },
          "metadata": {}
        }
      ],
      "execution_count": 164
    },
    {
      "cell_type": "code",
      "source": "a1<2",
      "metadata": {
        "trusted": true
      },
      "outputs": [
        {
          "execution_count": 165,
          "output_type": "execute_result",
          "data": {
            "text/plain": "array([ True, False, False])"
          },
          "metadata": {}
        }
      ],
      "execution_count": 165
    },
    {
      "cell_type": "code",
      "source": "a1==2",
      "metadata": {
        "trusted": true
      },
      "outputs": [
        {
          "execution_count": 166,
          "output_type": "execute_result",
          "data": {
            "text/plain": "array([False,  True, False])"
          },
          "metadata": {}
        }
      ],
      "execution_count": 166
    },
    {
      "cell_type": "code",
      "source": "a1>a2",
      "metadata": {
        "trusted": true
      },
      "outputs": [
        {
          "execution_count": 167,
          "output_type": "execute_result",
          "data": {
            "text/plain": "array([[False, False, False],\n       [False, False, False]])"
          },
          "metadata": {}
        }
      ],
      "execution_count": 167
    },
    {
      "cell_type": "code",
      "source": "np.random.seed(0)\nsample7=np.random.randint(10,size=(3,5))\nsample7",
      "metadata": {
        "trusted": true
      },
      "outputs": [
        {
          "execution_count": 189,
          "output_type": "execute_result",
          "data": {
            "text/plain": "array([[5, 0, 3, 3, 7],\n       [9, 3, 5, 2, 4],\n       [7, 6, 8, 8, 1]])"
          },
          "metadata": {}
        }
      ],
      "execution_count": 189
    },
    {
      "cell_type": "code",
      "source": "np.sort(sample7)",
      "metadata": {
        "trusted": true
      },
      "outputs": [
        {
          "execution_count": 191,
          "output_type": "execute_result",
          "data": {
            "text/plain": "array([[0, 3, 3, 5, 7],\n       [2, 3, 4, 5, 9],\n       [1, 6, 7, 8, 8]])"
          },
          "metadata": {}
        }
      ],
      "execution_count": 191
    },
    {
      "cell_type": "code",
      "source": "sample7",
      "metadata": {
        "trusted": true
      },
      "outputs": [
        {
          "execution_count": 192,
          "output_type": "execute_result",
          "data": {
            "text/plain": "array([[5, 0, 3, 3, 7],\n       [9, 3, 5, 2, 4],\n       [7, 6, 8, 8, 1]])"
          },
          "metadata": {}
        }
      ],
      "execution_count": 192
    },
    {
      "cell_type": "code",
      "source": "np.argsort(sample7)",
      "metadata": {
        "trusted": true
      },
      "outputs": [
        {
          "execution_count": 193,
          "output_type": "execute_result",
          "data": {
            "text/plain": "array([[1, 2, 3, 0, 4],\n       [3, 1, 4, 2, 0],\n       [4, 1, 0, 2, 3]], dtype=int32)"
          },
          "metadata": {}
        }
      ],
      "execution_count": 193
    },
    {
      "cell_type": "code",
      "source": "np.argmax(sample7)",
      "metadata": {
        "trusted": true
      },
      "outputs": [
        {
          "execution_count": 194,
          "output_type": "execute_result",
          "data": {
            "text/plain": "5"
          },
          "metadata": {}
        }
      ],
      "execution_count": 194
    },
    {
      "cell_type": "code",
      "source": "np.argmax(sample7,axis=1)",
      "metadata": {
        "trusted": true
      },
      "outputs": [
        {
          "execution_count": 195,
          "output_type": "execute_result",
          "data": {
            "text/plain": "array([4, 0, 2], dtype=int32)"
          },
          "metadata": {}
        }
      ],
      "execution_count": 195
    },
    {
      "cell_type": "code",
      "source": "np.argmin(sample7,axis=0)",
      "metadata": {
        "trusted": true
      },
      "outputs": [
        {
          "execution_count": 196,
          "output_type": "execute_result",
          "data": {
            "text/plain": "array([0, 0, 0, 1, 2], dtype=int32)"
          },
          "metadata": {}
        }
      ],
      "execution_count": 196
    },
    {
      "cell_type": "code",
      "source": "a1",
      "metadata": {
        "trusted": true
      },
      "outputs": [
        {
          "execution_count": 197,
          "output_type": "execute_result",
          "data": {
            "text/plain": "array([1, 2, 3])"
          },
          "metadata": {}
        }
      ],
      "execution_count": 197
    },
    {
      "cell_type": "code",
      "source": "np.argsort(a1)",
      "metadata": {
        "trusted": true
      },
      "outputs": [
        {
          "execution_count": 198,
          "output_type": "execute_result",
          "data": {
            "text/plain": "array([0, 1, 2], dtype=int32)"
          },
          "metadata": {}
        }
      ],
      "execution_count": 198
    },
    {
      "cell_type": "code",
      "source": "np.max(sample7,axis=1)",
      "metadata": {
        "trusted": true
      },
      "outputs": [
        {
          "execution_count": 200,
          "output_type": "execute_result",
          "data": {
            "text/plain": "array([7, 9, 8])"
          },
          "metadata": {}
        }
      ],
      "execution_count": 200
    },
    {
      "cell_type": "markdown",
      "source": "<img src=\"gt3.png\"/>",
      "metadata": {}
    },
    {
      "cell_type": "markdown",
      "source": "<img src=\"notebooks/ztm/gt3.png\"/>",
      "metadata": {}
    },
    {
      "cell_type": "code",
      "source": "from matplotlib.pyplot import imread",
      "metadata": {
        "trusted": true
      },
      "outputs": [],
      "execution_count": 203
    },
    {
      "cell_type": "code",
      "source": "photo=imread(\"gt3.png\")\nphoto[1:2:3]",
      "metadata": {
        "trusted": true
      },
      "outputs": [
        {
          "execution_count": 208,
          "output_type": "execute_result",
          "data": {
            "text/plain": "array([[[0.22745098, 0.25882354, 0.27058825, 1.        ],\n        [0.22745098, 0.25882354, 0.27058825, 1.        ],\n        [0.22745098, 0.25882354, 0.27058825, 1.        ],\n        ...,\n        [0.11764706, 0.14901961, 0.16078432, 1.        ],\n        [0.11764706, 0.14901961, 0.16078432, 1.        ],\n        [0.11764706, 0.14901961, 0.16078432, 1.        ]]], dtype=float32)"
          },
          "metadata": {}
        }
      ],
      "execution_count": 208
    },
    {
      "cell_type": "code",
      "source": "photo.shape,photo.ndim,photo.size",
      "metadata": {
        "trusted": true
      },
      "outputs": [
        {
          "execution_count": 210,
          "output_type": "execute_result",
          "data": {
            "text/plain": "((612, 426, 4), 3, 1042848)"
          },
          "metadata": {}
        }
      ],
      "execution_count": 210
    },
    {
      "cell_type": "code",
      "source": "import random\n\ndef shuffle(numShuffles):\n    # Generate an ordered deck of 52 playing cards\n    card_deck = [i for i in range(1, 14) for x in range(4)]\n\n    # Perform shuffling numShuffles times\n    for j in range(numShuffles):\n        # Randomly choose two positions within the deck\n        position1, position2 = random.sample(range(52), 2)\n\n        # Swap the cards at the chosen positions\n        card_deck[position1], card_deck[position2] = card_deck[position2], card_deck[position1]\n\n    # Print the resulting shuffled deck\n    print(f\"Shuffled Deck after {numShuffles} shuffles: {card_deck}\")\n\n# Call the function with different numbers of shuffles\nshuffle(10)\nshuffle(50)\nshuffle(100)\nshuffle(500)",
      "metadata": {
        "trusted": true
      },
      "outputs": [
        {
          "name": "stdout",
          "text": "Shuffled Deck after 10 shuffles: [1, 4, 1, 1, 4, 2, 9, 2, 10, 3, 3, 3, 5, 4, 2, 1, 11, 5, 13, 4, 5, 6, 6, 6, 7, 7, 7, 7, 8, 8, 8, 5, 9, 11, 9, 9, 10, 10, 10, 3, 11, 6, 11, 2, 12, 12, 12, 12, 13, 13, 13, 8]\nShuffled Deck after 50 shuffles: [6, 12, 12, 3, 3, 4, 2, 7, 1, 2, 4, 5, 11, 4, 9, 6, 5, 2, 11, 13, 7, 7, 3, 9, 6, 13, 1, 7, 1, 2, 6, 8, 11, 8, 9, 13, 10, 10, 10, 13, 5, 3, 11, 10, 8, 12, 4, 1, 8, 12, 9, 5]\nShuffled Deck after 100 shuffles: [12, 6, 7, 12, 12, 4, 11, 11, 4, 11, 8, 5, 3, 5, 13, 2, 10, 8, 3, 9, 10, 6, 10, 3, 8, 7, 1, 13, 4, 11, 13, 1, 6, 2, 5, 2, 4, 9, 7, 3, 1, 9, 1, 5, 8, 12, 10, 13, 7, 9, 2, 6]\nShuffled Deck after 500 shuffles: [6, 11, 7, 2, 11, 1, 9, 12, 5, 1, 3, 13, 3, 1, 12, 13, 6, 5, 4, 8, 6, 12, 10, 13, 9, 12, 11, 7, 11, 4, 8, 7, 3, 8, 5, 5, 2, 10, 4, 7, 10, 1, 8, 10, 2, 4, 3, 9, 9, 6, 2, 13]\n",
          "output_type": "stream"
        }
      ],
      "execution_count": 213
    },
    {
      "cell_type": "code",
      "source": "def valid_steps(steps, dependencies):\n    # Create a set to keep track of completed steps\n    completed_steps = set()\n\n    # Helper function to recursively check dependencies\n    def can_complete(step):\n        # If the step is already completed, return True\n        if step in completed_steps:\n            return True\n\n        # Check if all dependencies are completed\n        dependencies_met = all(can_complete(dep) for dep in dependencies.get(step, []))\n\n        # If dependencies are met, add the step to completed_steps and return True\n        if dependencies_met:\n            completed_steps.add(step)\n            return True\n\n        # If dependencies are not met, return False\n        return False\n\n    # Check if all steps in the given set can be completed\n    return all(can_complete(step) for step in steps)\n\n# Example usage:\ndependencies_example = {1: [2, 3], 2: [3], 3: []}\nprint(valid_steps({2, 3}, dependencies_example))  # True\nprint(valid_steps({1, 2, 3}, dependencies_example))  # True\nprint(valid_steps({1, 3}, dependencies_example))  # False\nprint(valid_steps({3}, dependencies_example))  # True\n",
      "metadata": {
        "trusted": true
      },
      "outputs": [
        {
          "name": "stdout",
          "text": "True\nTrue\nTrue\nTrue\n",
          "output_type": "stream"
        }
      ],
      "execution_count": 214
    },
    {
      "cell_type": "code",
      "source": "def valid_steps(steps, dependencies):\n    # Create a set to keep track of completed steps\n    completed_steps = set()\n\n    # Helper function to recursively check dependencies\n    def can_complete(step):\n        # If the step is already completed, return True\n        if step in completed_steps:\n            return True\n\n        # Check if all dependencies are completed\n        dependencies_met = all(can_complete(dep) for dep in dependencies.get(step, []))\n\n        # If dependencies are met, add the step to completed_steps and return True\n        if dependencies_met:\n            completed_steps.add(step)\n            return True\n\n        # If dependencies are not met, return False\n        return False\n\n    # Check if all steps in the given set can be completed\n    return all(can_complete(step) for step in steps)\n\n# Example usage:\ndependencies_example = {1: [2, 3], 2: [3], 3: []}\nprint(valid_steps({2, 3}, dependencies_example))  # True\nprint(valid_steps({1, 2, 3}, dependencies_example))  # True\nprint(valid_steps({1, 3}, dependencies_example))  # False\nprint(valid_steps({3}, dependencies_example))  # True\n",
      "metadata": {
        "trusted": true
      },
      "outputs": [
        {
          "name": "stdout",
          "text": "True\nTrue\nTrue\nTrue\n",
          "output_type": "stream"
        }
      ],
      "execution_count": 215
    },
    {
      "cell_type": "code",
      "source": "def valid_steps(steps, dependencies):\n    # Create a set to keep track of completed steps\n    completed_steps = set()\n\n    # Helper function to recursively check dependencies\n    def can_complete(step):\n        # If the step is already completed, return True\n        if step in completed_steps:\n            return True\n\n        # Check if all dependencies are completed\n        dependencies_met = all(can_complete(dep) for dep in dependencies.get(step, []))\n\n        # If dependencies are met, add the step to completed_steps and return True\n        if dependencies_met:\n            completed_steps.add(step)\n            return True\n\n        # If dependencies are not met, return False\n        return False\n\n    # Check if all steps in the given set can be completed and no additional steps are completed\n    return all(can_complete(step) for step in steps) and len(completed_steps) == len(steps)\n\n# Example usage:\ndependencies_example = {1: [2, 3], 2: [3], 3: []}\nprint(valid_steps({2, 3}, dependencies_example))  # True\nprint(valid_steps({1, 2, 3}, dependencies_example))  # True\nprint(valid_steps({1, 3}, dependencies_example))  # False\nprint(valid_steps({3}, dependencies_example))  # True\n",
      "metadata": {
        "trusted": true
      },
      "outputs": [
        {
          "name": "stdout",
          "text": "True\nTrue\nFalse\nTrue\n",
          "output_type": "stream"
        }
      ],
      "execution_count": 216
    },
    {
      "cell_type": "code",
      "source": "|",
      "metadata": {
        "trusted": true
      },
      "outputs": [],
      "execution_count": null
    }
  ]
}